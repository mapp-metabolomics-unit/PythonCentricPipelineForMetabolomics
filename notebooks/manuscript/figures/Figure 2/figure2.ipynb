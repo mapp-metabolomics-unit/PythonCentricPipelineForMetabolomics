{
 "cells": [
  {
   "cell_type": "code",
   "execution_count": 5,
   "metadata": {},
   "outputs": [
    {
     "name": "stdout",
     "output_type": "stream",
     "text": [
      "1704\n",
      "1704\n",
      "dict_keys(['assemble', 'asari', 'blank_masking', 'drop_samples', 'drop_outliers', 'normalize', 'drop_missing_features', 'impute', 'log_transform', 'build_empCpds', 'map_ms2', 'l4_annotate', 'l2_annotate', 'l1b_annotate', 'l1a_annotate', 'report', 'finish'])\n",
      "assemble 0.019163497289021808\n",
      "asari 23.787551852067313\n",
      "blank_masking 1.6185418486595153\n",
      "drop_samples 1.1739463686943055\n",
      "drop_outliers 0.8513699173927307\n",
      "normalize 0.9965308308601379\n",
      "drop_missing_features 0.15929365158081055\n",
      "impute 0.17307191689809162\n",
      "log_transform 0.1556544820467631\n",
      "build_empCpds 0.31053061882654825\n",
      "map_ms2 1.2607966462771099\n",
      "l4_annotate 0.42823566993077594\n",
      "l2_annotate 2.608411419391632\n",
      "l1b_annotate 0.21616997718811035\n",
      "l1a_annotate 0.8900832692782085\n",
      "report 1.4521435976028443\n",
      "dict_keys(['assemble', 'asari', 'blank_masking', 'drop_samples', 'drop_outliers', 'normalize', 'drop_missing_features', 'impute', 'log_transform', 'build_empCpds', 'map_ms2', 'l4_annotate', 'l2_annotate', 'l1b_annotate', 'l1a_annotate', 'report', 'finish'])\n",
      "assemble 0.0242227832476298\n",
      "asari 21.981385600566863\n",
      "blank_masking 1.87114763657252\n",
      "drop_samples 1.2949097275733947\n",
      "drop_outliers 0.9353561004002889\n",
      "normalize 1.1555495500564574\n",
      "drop_missing_features 0.21203054984410605\n",
      "impute 0.2175436496734619\n",
      "log_transform 0.20405817031860352\n",
      "build_empCpds 0.44620386362075803\n",
      "map_ms2 1.8114918192227683\n",
      "l4_annotate 0.5409212668736776\n",
      "l2_annotate 9.519736202557882\n",
      "l1b_annotate 0.2808074633280436\n",
      "l1a_annotate 1.0042751510938008\n",
      "report 1.501339582602183\n"
     ]
    },
    {
     "data": {
      "image/png": "[encoded data removed]",
      "text/plain": [
       "<Figure size 640x480 with 1 Axes>"
      ]
     },
     "metadata": {},
     "output_type": "display_data"
    }
   ],
   "source": [
    "# Panel B\n",
    "import json\n",
    "import matplotlib.pyplot as plt\n",
    "rpneg = json.load(open(\"./HZV029_plasma_RP_neg_experiment.json\"))\n",
    "hilicpos = json.load(open(\"./HZV029_plasma_HILIC_pos_experiment.json\"))\n",
    "\n",
    "print(len(rpneg[\"acquisitions\"]))\n",
    "print(len(hilicpos[\"acquisitions\"]))\n",
    "\n",
    "for title, data in zip([\"HZV029 RP-\", \"HZV029 HILIC+\"], [rpneg, hilicpos]):\n",
    "    cmds = data[\"command_history\"]\n",
    "    total_time_elapsed = {}\n",
    "    for i, cmd_1 in enumerate(cmds[:-1]):\n",
    "        cmd_2 = cmds[i+1]\n",
    "        time_1, cmd_1 = cmd_1.split(\":\")\n",
    "        time_2, cmd_2 = cmd_2.split(\":\")\n",
    "        subcommand = cmd_2.split(\";\")[1]\n",
    "        time_used = float(time_2) - float(time_1)\n",
    "        if subcommand not in total_time_elapsed:\n",
    "            total_time_elapsed[subcommand] = 0\n",
    "        total_time_elapsed[subcommand] += time_used / 60\n",
    "    print(total_time_elapsed.keys())\n",
    "    colors = {\n",
    "        'assemble': 'lightblue',\n",
    "        'asari': 'lightblue',\n",
    "        'convert': 'lightblue',\n",
    "        'blank_masking': 'lightcoral',\n",
    "        'drop_samples': 'lightcoral',\n",
    "        'drop_outliers': 'lightcoral',\n",
    "        'drop_missing_features': 'lightcoral',\n",
    "        'normalize': 'lightcoral',\n",
    "        'batch_correct': 'lightcoral', \n",
    "        'log_transform': 'lightcoral',\n",
    "        'interpolate': 'lightcoral',\n",
    "        'impute': 'lightcoral',\n",
    "        'build_empCpds': 'lightgreen',\n",
    "        'l4_annotate': 'lightgreen',\n",
    "        'l2_annotate': 'lightgreen',\n",
    "        'L1_annotate_w_MS2': 'lightgreen',\n",
    "        'map_ms2': 'lightgreen',\n",
    "        'l1a_annotate': 'lightgreen',\n",
    "        'l1b_annotate': 'lightgreen',\n",
    "        'report': 'lightgray',\n",
    "        'finish': 'lightgreen'\n",
    "    }\n",
    "\n",
    "\n",
    "    subtotal = 0\n",
    "    for sub, dt in total_time_elapsed.items():\n",
    "        if sub not in {'finish'}:\n",
    "            plt.bar(title, dt, bottom=subtotal, color=colors[sub])\n",
    "            subtotal += dt\n",
    "            print(sub, dt)\n",
    "plt.show()\n"
   ]
  }
 ],
 "metadata": {
  "kernelspec": {
   "display_name": "Python 3",
   "language": "python",
   "name": "python3"
  },
  "language_info": {
   "codemirror_mode": {
    "name": "ipython",
    "version": 3
   },
   "file_extension": ".py",
   "mimetype": "text/x-python",
   "name": "python",
   "nbconvert_exporter": "python",
   "pygments_lexer": "ipython3",
   "version": "3.9.6"
  }
 },
 "nbformat": 4,
 "nbformat_minor": 2
}
