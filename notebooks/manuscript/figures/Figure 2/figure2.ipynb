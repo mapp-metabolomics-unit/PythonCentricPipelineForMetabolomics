{
 "cells": [
  {
   "cell_type": "code",
   "execution_count": null,
   "metadata": {},
   "outputs": [],
   "source": [
    "# Panel B\n",
    "import json\n",
    "import matplotlib.pyplot as plt\n",
    "rpneg = json.load(open(\"./HZV029_plasma_RP_neg_experiment.json\"))\n",
    "hilicpos = json.load(open(\"./HZV029_plasma_HILIC_pos_experiment.json\"))\n",
    "\n",
    "print(len(rpneg[\"acquisitions\"]))\n",
    "print(len(hilicpos[\"acquisitions\"]))\n",
    "\n",
    "for title, data in zip([\"HZV029 RP-\", \"HZV029 HILIC+\"], [rpneg, hilicpos]):\n",
    "    cmds = data[\"command_history\"]\n",
    "    total_time_elapsed = {}\n",
    "    for i, cmd_1 in enumerate(cmds[:-1]):\n",
    "        cmd_2 = cmds[i+1]\n",
    "        time_1, cmd_1 = cmd_1.split(\":\")\n",
    "        time_2, cmd_2 = cmd_2.split(\":\")\n",
    "        subcommand = cmd_2.split(\";\")[1]\n",
    "        time_used = float(time_2) - float(time_1)\n",
    "        if subcommand not in total_time_elapsed:\n",
    "            total_time_elapsed[subcommand] = 0\n",
    "        total_time_elapsed[subcommand] += time_used / 60\n",
    "    print(total_time_elapsed.keys())\n",
    "    colors = {\n",
    "        'assemble': 'lightblue',\n",
    "        'asari': 'lightblue',\n",
    "        'convert': 'lightblue',\n",
    "        'blank_masking': 'lightcoral',\n",
    "        'drop_samples': 'lightcoral',\n",
    "        'drop_outliers': 'lightcoral',\n",
    "        'drop_missing_features': 'lightcoral',\n",
    "        'normalize': 'lightcoral',\n",
    "        'batch_correct': 'lightcoral', \n",
    "        'log_transform': 'lightcoral',\n",
    "        'interpolate': 'lightcoral',\n",
    "        'impute': 'lightcoral',\n",
    "        'build_empCpds': 'lightgreen',\n",
    "        'l4_annotate': 'lightgreen',\n",
    "        'l2_annotate': 'lightgreen',\n",
    "        'L1_annotate_w_MS2': 'lightgreen',\n",
    "        'map_ms2': 'lightgreen',\n",
    "        'l1a_annotate': 'lightgreen',\n",
    "        'l1b_annotate': 'lightgreen',\n",
    "        'report': 'lightgray',\n",
    "        'finish': 'lightgreen'\n",
    "    }\n",
    "\n",
    "\n",
    "    subtotal = 0\n",
    "    for sub, dt in total_time_elapsed.items():\n",
    "        if sub not in {'finish'}:\n",
    "            plt.bar(title, dt, bottom=subtotal, color=colors[sub])\n",
    "            subtotal += dt\n",
    "            print(sub, dt)\n",
    "plt.show()\n"
   ]
  }
 ],
 "metadata": {
  "kernelspec": {
   "display_name": "Python 3",
   "language": "python",
   "name": "python3"
  },
  "language_info": {
   "codemirror_mode": {
    "name": "ipython",
    "version": 3
   },
   "file_extension": ".py",
   "mimetype": "text/x-python",
   "name": "python",
   "nbconvert_exporter": "python",
   "pygments_lexer": "ipython3",
   "version": "3.9.6"
  }
 },
 "nbformat": 4,
 "nbformat_minor": 2
}
