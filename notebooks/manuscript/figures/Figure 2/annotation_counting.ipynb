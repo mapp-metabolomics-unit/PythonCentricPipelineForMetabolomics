{
 "cells": [
  {
   "cell_type": "code",
   "execution_count": null,
   "metadata": {},
   "outputs": [],
   "source": [
    "import pandas as pd\n",
    "import json\n",
    "import numpy as np"
   ]
  },
  {
   "cell_type": "code",
   "execution_count": null,
   "metadata": {},
   "outputs": [],
   "source": [
    "def count_annots(results):\n",
    "    num_emp_cpds = 0\n",
    "    num_features = 0\n",
    "    total_l4_annots = 0\n",
    "    l4_annotated_emp_cpds = set()\n",
    "    l4_annotated_features = 0\n",
    "    total_MS2_spectra = 0\n",
    "    l2_annotated_MS2_spectra = set()\n",
    "    l2_annotated_empcpds = set()\n",
    "    l2_annotated_features = 0\n",
    "\n",
    "    l1_annotated_MS2_spectra = set()\n",
    "    l1_annotated_empcpds = set()\n",
    "    l1_annotated_features = 0\n",
    "    empcpd_w_ms2 = 0\n",
    "\n",
    "    for id, empcpd in results.items():\n",
    "        num_features_empcpd = len(empcpd[\"MS1_pseudo_Spectra\"])\n",
    "        num_emp_cpds += 1\n",
    "        for feature in empcpd[\"MS1_pseudo_Spectra\"]:\n",
    "            num_features += 1\n",
    "        if \"Level_4\" in empcpd:\n",
    "            for l4 in empcpd[\"Level_4\"]:\n",
    "                total_l4_annots += 1\n",
    "                l4_annotated_emp_cpds.add(id)\n",
    "        if \"Level_4\" in empcpd and empcpd[\"Level_4\"]:\n",
    "            l4_annotated_features += num_features_empcpd\n",
    "        has_L2 = False\n",
    "        has_L1a = False\n",
    "\n",
    "        \n",
    "        if \"MS2_Spectra\" in empcpd and empcpd[\"MS2_Spectra\"]:\n",
    "            total_MS2_spectra += 1\n",
    "\n",
    "        if \"MS2_Spectra\" in empcpd:\n",
    "            for ms2 in empcpd[\"MS2_Spectra\"]:\n",
    "                for annot in ms2[\"annotations\"]:\n",
    "                    if annot[\"annotation_level\"] == \"Level_2\":\n",
    "                        has_L2 = True\n",
    "                        l2_annotated_empcpds.add(id)\n",
    "                        l2_annotated_MS2_spectra.add(ms2[\"precursor_ion_id\"])\n",
    "        if has_L2:\n",
    "            l2_annotated_features += num_features_empcpd\n",
    "        if \"MS2_Spectra\" in empcpd:\n",
    "            for ms2 in empcpd[\"MS2_Spectra\"]:\n",
    "                for annot in ms2[\"annotations\"]:\n",
    "                    if annot[\"annotation_level\"] == \"Level_1a\":\n",
    "                        has_L1a = True\n",
    "                        l1_annotated_empcpds.add(id)\n",
    "                        l1_annotated_MS2_spectra.add(ms2[\"precursor_ion_id\"])\n",
    "        if has_L1a:\n",
    "            l1_annotated_features += num_features_empcpd\n",
    "\n",
    "    return {\n",
    "        \"num_emp_cpds\": num_emp_cpds,\n",
    "        \"num_features\": num_features, \n",
    "        \"total_l4_annots\": total_l4_annots,\n",
    "        \"l4_annotated_emp_cpds\": len(l4_annotated_emp_cpds),\n",
    "        \"l4_annotated_features\": l4_annotated_features,\n",
    "        \"total_MS2_spectra\": total_MS2_spectra,\n",
    "        \"l2_annotated_MS2_spectra\": len(l2_annotated_MS2_spectra),\n",
    "        \"l2_annotated_empcpds\": len(l2_annotated_empcpds),\n",
    "        \"l2_annotated_features\": l2_annotated_features,\n",
    "        \"l1_annotated_MS2_spectra\": len(l1_annotated_MS2_spectra),\n",
    "        \"l1_annotated_empcpds\": len(l1_annotated_empcpds),\n",
    "        \"l1_annotated_features\": l1_annotated_features\n",
    "    }\n",
    "\n",
    "\n"
   ]
  },
  {
   "cell_type": "code",
   "execution_count": null,
   "metadata": {},
   "outputs": [],
   "source": [
    "print(\"HILIC results\")\n",
    "hilic_results = json.load(open(\"/Users/mitchjo/Analyses/HZV029_plasma_HILIC_pos/output/MoNA_HMDB_LMSD_annotated_for_analysis_empCpds.json\"))\n",
    "print(json.dumps(count_annots(hilic_results), indent=4))"
   ]
  },
  {
   "cell_type": "code",
   "execution_count": null,
   "metadata": {},
   "outputs": [],
   "source": [
    "print(\"RP results\")\n",
    "rp_results = json.load(open(\"/Users/mitchjo/Analyses/HZV029_plasma_RP_neg/output/MoNA_HMDB_LMSD_annotated_for_analysis_empCpds.json\"))\n",
    "print(json.dumps(count_annots(rp_results), indent=4))"
   ]
  }
 ],
 "metadata": {
  "kernelspec": {
   "display_name": "Python 3",
   "language": "python",
   "name": "python3"
  },
  "language_info": {
   "codemirror_mode": {
    "name": "ipython",
    "version": 3
   },
   "file_extension": ".py",
   "mimetype": "text/x-python",
   "name": "python",
   "nbconvert_exporter": "python",
   "pygments_lexer": "ipython3",
   "version": "3.9.6"
  }
 },
 "nbformat": 4,
 "nbformat_minor": 2
}
