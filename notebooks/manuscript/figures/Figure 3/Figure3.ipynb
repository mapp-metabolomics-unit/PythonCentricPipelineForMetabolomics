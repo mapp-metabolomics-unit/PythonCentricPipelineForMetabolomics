{
 "cells": [
  {
   "cell_type": "code",
   "execution_count": null,
   "metadata": {},
   "outputs": [],
   "source": [
    "import json\n",
    "import intervaltree\n",
    "import csv\n",
    "import pandas as pd\n",
    "import numpy as np"
   ]
  },
  {
   "cell_type": "code",
   "execution_count": null,
   "metadata": {},
   "outputs": [],
   "source": [
    "def read_CD(path):\n",
    "    t = pd.read_csv(path)\n",
    "    annotations = []\n",
    "    primary_rtime = None\n",
    "    primary_mz = None\n",
    "    for name, mz, rtime, sub_name in zip(t[\"Name\"], t[\"m/z\"], t[\"RT [min]\"], t[\"Annot. Source: mzVault Search\"]):\n",
    "        if name != \"No results\" and name != \"Tags\":\n",
    "            if isinstance(name, str):\n",
    "                primary_rtime = rtime\n",
    "                primary_mz = mz\n",
    "                annotations.append({\"Name\": name, \"m/z\": mz, \"RT [min]\": rtime})\n",
    "            elif isinstance(sub_name, str) and sub_name != \"No results\":\n",
    "                annotations.append({\"Name\": sub_name, \"m/z\": primary_mz, \"RT [min]\": primary_rtime})\n",
    "    return annotations"
   ]
  },
  {
   "cell_type": "code",
   "execution_count": null,
   "metadata": {},
   "outputs": [],
   "source": [
    "def read_pcpfm(path):\n",
    "    return json.load(open(path))"
   ]
  },
  {
   "cell_type": "code",
   "execution_count": null,
   "metadata": {},
   "outputs": [],
   "source": [
    "def map_CD_annots(cd_annots, pcpfm_annots, mz_ppm_tol=10, rt_err=30):\n",
    "    mz_tree, rt_tree = intervaltree.IntervalTree(), intervaltree.IntervalTree()\n",
    "    khipu_to_features, features_to_khipu = {}, {}\n",
    "    for kp_id, kp in pcpfm_annots.items():\n",
    "        for peak in kp[\"MS1_pseudo_Spectra\"]:\n",
    "            id = peak['id_number']\n",
    "            features_to_khipu[id] = kp_id\n",
    "            if kp_id in khipu_to_features:\n",
    "                khipu_to_features[kp_id].append(id)\n",
    "            else:\n",
    "                khipu_to_features[kp_id] = [id]\n",
    "            mz, rtime = peak['mz'], peak['rtime']\n",
    "            mz_err = mz / 1e6 * mz_ppm_tol\n",
    "            mz_tree.addi(mz - mz_err, mz + mz_err, id)\n",
    "            rt_tree.addi(rtime - rt_err, rtime + rt_err, id)            \n",
    "    \n",
    "    for cd_annot in cd_annots:\n",
    "        cd_annot['mapped_to'] = set()\n",
    "        if cd_annot['Name']:\n",
    "            mz = float(cd_annot['m/z'])\n",
    "            rt = float(cd_annot['RT [min]']) * 60\n",
    "            mz_matches = {x.data for x in mz_tree.at(mz)}\n",
    "            rt_matches = {x.data for x in rt_tree.at(rt)}\n",
    "            for match in mz_matches.intersection(rt_matches):\n",
    "                for khipu_feature in khipu_to_features[features_to_khipu[match]]:\n",
    "                    cd_annot['mapped_to'].add(khipu_feature)\n",
    "    return cd_annots"
   ]
  },
  {
   "cell_type": "code",
   "execution_count": null,
   "metadata": {},
   "outputs": [],
   "source": [
    "def eval_overlap(cd_path, pcpfm_path):\n",
    "    CD_annots = read_CD(cd_path)\n",
    "    PCPFM_annots = read_pcpfm(pcpfm_path)\n",
    "    CD_annots = map_CD_annots(CD_annots, PCPFM_annots, mz_ppm_tol=10)\n",
    "\n",
    "    all_CD_annot_cpds = set()\n",
    "    all_PCPFM_annot_cpds = set()\n",
    "\n",
    "    for cd_annot in CD_annots:\n",
    "        for feature in cd_annot[\"mapped_to\"]:\n",
    "            all_CD_annot_cpds.add(cd_annot[\"Name\"] + \"_\" + feature)\n",
    "\n",
    "    for kp_id, kp in PCPFM_annots.items():\n",
    "        if \"MS2_Spectra\" in kp:\n",
    "            for MS2 in kp[\"MS2_Spectra\"]:\n",
    "                all_annotations = [(annotation, annotation[\"msms_score\"]) for annotation in MS2[\"annotations\"]]\n",
    "                all_annotations = sorted(all_annotations, key=lambda x: -x[1])\n",
    "                all_annotations = [x[0] for x in all_annotations[:10]]\n",
    "                for annotation in all_annotations:\n",
    "                    for peak in kp[\"MS1_pseudo_Spectra\"]:\n",
    "                        all_PCPFM_annot_cpds.add(annotation['reference_id'] + \"_\" + peak['id_number'])\n",
    "\n",
    "    print(\"CD All:\", len(all_CD_annot_cpds), \"PCPFM All:\", len(all_PCPFM_annot_cpds))\n",
    "    CD_in_PCPFM = all_CD_annot_cpds.intersection(all_PCPFM_annot_cpds)\n",
    "    print(\"Shared Annotations: \", len(CD_in_PCPFM))\n",
    "    print(\"CD Only:\", len(all_CD_annot_cpds) - len(CD_in_PCPFM))\n",
    "    print(\"PCPFM Only:\", len(all_PCPFM_annot_cpds) - len(CD_in_PCPFM))\n",
    "    print(CD_in_PCPFM)"
   ]
  },
  {
   "cell_type": "markdown",
   "metadata": {},
   "source": []
  },
  {
   "cell_type": "code",
   "execution_count": null,
   "metadata": {},
   "outputs": [],
   "source": [
    "# RP NEG \n",
    "eval_overlap(\"./CD_MoNA_RP_neg.csv\", \"./HZV029_RP_neg_MoNA_annotations.json\") # 30 sec\n"
   ]
  },
  {
   "cell_type": "code",
   "execution_count": null,
   "metadata": {},
   "outputs": [],
   "source": [
    "# HILIC POS\n",
    "eval_overlap(\"./CD_MoNA_HILIC_pos.csv\", \"./HZV029_HILIC_pos_MoNA_annotations.json\")\n"
   ]
  }
 ],
 "metadata": {
  "kernelspec": {
   "display_name": "pcpfm_venv",
   "language": "python",
   "name": "python3"
  },
  "language_info": {
   "codemirror_mode": {
    "name": "ipython",
    "version": 3
   },
   "file_extension": ".py",
   "mimetype": "text/x-python",
   "name": "python",
   "nbconvert_exporter": "python",
   "pygments_lexer": "ipython3",
   "version": "3.9.6"
  }
 },
 "nbformat": 4,
 "nbformat_minor": 2
}
