{
 "cells": [
  {
   "cell_type": "code",
   "execution_count": null,
   "metadata": {},
   "outputs": [],
   "source": [
    "# first run the workflow to get the raw data for analysis."
   ]
  },
  {
   "cell_type": "code",
   "execution_count": null,
   "metadata": {},
   "outputs": [],
   "source": [
    "import pandas as pd\n",
    "from intervaltree import IntervalTree"
   ]
  },
  {
   "cell_type": "code",
   "execution_count": null,
   "metadata": {},
   "outputs": [],
   "source": [
    "# lets do cell pellets first - preferred table\n",
    "\n",
    "expected_features_cell = [\n",
    "    (399.1823, 33.4,  'M0_1'),\n",
    "    (399.2184, 224.8, 'M0_2'),\n",
    "    (371.1874, 257.2, 'M1'),\n",
    "    (415.2134, 264.8, 'M2_1'),\n",
    "    (415.2128, 224.5, 'M2_2'),\n",
    "    (343.1562, 249.4, 'M3'),\n",
    "    (387.1823, 35.4,  'M4_1'),\n",
    "    (387.1824, 242.5, 'M4_2'),\n",
    "    (413.1978, 34.6,  'M12'),\n",
    "    (385.1667, 38.9,  'M14_1'),\n",
    "    (385.1666, 65.8,  'M14_2'),\n",
    "    (159.1490, 273.2, 'M20')\n",
    "]\n",
    "\n",
    "pft_cell = pd.read_csv(\"./Bowen_Cell_pref_for_analysis.tsv\", sep=\"\\t\")\n",
    "fft_cell = pd.read_csv(\"./Bowen_Cell_full_for_analysis.tsv\", sep=\"\\t\")\n"
   ]
  },
  {
   "cell_type": "code",
   "execution_count": null,
   "metadata": {},
   "outputs": [],
   "source": [
    "ppm_mz_tol = 5\n",
    "rt_tol = 10\n",
    "\n",
    "pft_mz_tree = IntervalTree()\n",
    "pft_rt_tree = IntervalTree()\n",
    "for mz, rt, id in zip(pft_cell['mz'], pft_cell['rtime'], pft_cell['id_number']):\n",
    "    mz_err = mz/1e6 * ppm_mz_tol\n",
    "    pft_mz_tree.addi(mz-mz_err, mz+mz_err, id)\n",
    "    pft_rt_tree.addi(rt-rt_tol, rt+rt_tol, id)\n",
    "\n",
    "fft_mz_tree = IntervalTree()\n",
    "fft_rt_tree = IntervalTree()\n",
    "for mz, rt, id in zip(fft_cell['mz'], fft_cell['rtime'], fft_cell['id_number']):\n",
    "    mz_err = mz/1e6 * ppm_mz_tol\n",
    "    fft_mz_tree.addi(mz-mz_err, mz+mz_err, id)\n",
    "    fft_rt_tree.addi(rt-rt_tol, rt+rt_tol, id)"
   ]
  },
  {
   "cell_type": "code",
   "execution_count": null,
   "metadata": {},
   "outputs": [],
   "source": [
    "print(\"Cell - preferred\")\n",
    "for expected in expected_features_cell:\n",
    "    exp_mz, exp_rt, id = expected\n",
    "    matches_mz = set([x.data for x in pft_mz_tree.at(exp_mz)])\n",
    "    matches_rt = set([x.data for x in pft_rt_tree.at(exp_rt)])\n",
    "    true_matches = matches_mz.intersection(matches_rt)\n",
    "    print(id, true_matches)\n",
    "print()\n",
    "print(\"Cell - full\")\n",
    "for expected in expected_features_cell:\n",
    "    exp_mz, exp_rt, id = expected\n",
    "    matches_mz = set([x.data for x in fft_mz_tree.at(exp_mz)])\n",
    "    matches_rt = set([x.data for x in fft_rt_tree.at(exp_rt)])\n",
    "    true_matches = matches_mz.intersection(matches_rt)\n",
    "    print(id, true_matches)"
   ]
  },
  {
   "cell_type": "code",
   "execution_count": null,
   "metadata": {},
   "outputs": [],
   "source": [
    "# Now lets do the media\n",
    "\n",
    "expected_features_media = [\n",
    "    (399.2190, 134.9, 'M0_1'),\n",
    "    (399.2191, 224.7, 'M0_2'),\n",
    "    (371.1879, 257.1, 'M1'),\n",
    "    (415.2140, 197.7, 'M2_1'),\n",
    "    (415.2141, 264.8, 'M2_2'),\n",
    "    (413.1983, 34.5,  'M12'),\n",
    "    (385.1671, 39.0,  'M14'),\n",
    "    (344.1407, 35.1,  'M20')\n",
    "]\n",
    "\n",
    "pft_media = pd.read_csv(\"./Bowen_Media_pref_for_analysis.tsv\", sep=\"\\t\")\n",
    "fft_media = pd.read_csv(\"./Bowen_Media_full_for_analysis.tsv\", sep=\"\\t\")"
   ]
  },
  {
   "cell_type": "code",
   "execution_count": null,
   "metadata": {},
   "outputs": [],
   "source": [
    "\n",
    "pft_mz_tree = IntervalTree()\n",
    "pft_rt_tree = IntervalTree()\n",
    "for mz, rt, id in zip(pft_media['mz'], pft_media['rtime'], pft_media['id_number']):\n",
    "    mz_err = mz/1e6 * ppm_mz_tol\n",
    "    pft_mz_tree.addi(mz-mz_err, mz+mz_err, id)\n",
    "    pft_rt_tree.addi(rt-rt_tol, rt+rt_tol, id)\n",
    "\n",
    "fft_mz_tree = IntervalTree()\n",
    "fft_rt_tree = IntervalTree()\n",
    "for mz, rt, id in zip(fft_media['mz'], fft_media['rtime'], fft_media['id_number']):\n",
    "    mz_err = mz/1e6 * ppm_mz_tol\n",
    "    fft_mz_tree.addi(mz-mz_err, mz+mz_err, id)\n",
    "    fft_rt_tree.addi(rt-rt_tol, rt+rt_tol, id)"
   ]
  },
  {
   "cell_type": "code",
   "execution_count": null,
   "metadata": {},
   "outputs": [],
   "source": [
    "print(\"Media - preferred\")\n",
    "for expected in expected_features_media:\n",
    "    exp_mz, exp_rt, id = expected\n",
    "    matches_mz = set([x.data for x in pft_mz_tree.at(exp_mz)])\n",
    "    matches_rt = set([x.data for x in pft_rt_tree.at(exp_rt)])\n",
    "    true_matches = matches_mz.intersection(matches_rt)\n",
    "    print(id, true_matches)\n",
    "print()\n",
    "\n",
    "print(\"Media - full\")\n",
    "for expected in expected_features_media:\n",
    "    exp_mz, exp_rt, id = expected\n",
    "    matches_mz = set([x.data for x in fft_mz_tree.at(exp_mz)])\n",
    "    matches_rt = set([x.data for x in fft_rt_tree.at(exp_rt)])\n",
    "    true_matches = matches_mz.intersection(matches_rt)\n",
    "    print(id, true_matches)"
   ]
  },
  {
   "cell_type": "code",
   "execution_count": null,
   "metadata": {},
   "outputs": [],
   "source": [
    "# now lets find features associated with drug treatment\n",
    "\n",
    "metadata = pd.read_csv(\"./s_MTBLS2746.txt\", sep=\"\\t\")\n",
    "print(metadata.head)"
   ]
  },
  {
   "cell_type": "code",
   "execution_count": null,
   "metadata": {},
   "outputs": [],
   "source": [
    "names = [z for z in metadata[\"Source Name\"]]\n",
    "treatments = [z for z in metadata[\"Factor Value[Treatment]\"]]\n",
    "\n",
    "lookup = dict(zip(names, treatments))\n",
    "\n",
    "sunitinib, control = [], []\n",
    "for x in pft_cell.columns:\n",
    "    if \"CM__\" + x in lookup:\n",
    "        if lookup[\"CM__\" + x] == 'experimental condition \\'control\\'':\n",
    "            control.append(x)\n",
    "        else:\n",
    "            sunitinib.append(x)\n",
    "\n",
    "print(sunitinib)"
   ]
  },
  {
   "cell_type": "code",
   "execution_count": null,
   "metadata": {},
   "outputs": [],
   "source": [
    "from scipy.stats import ttest_ind\n",
    "from statsmodels.stats.multitest import fdrcorrection\n",
    "import matplotlib.pyplot as plt\n",
    "import seaborn as sns\n",
    "\n",
    "raw_p_vals = []\n",
    "for feature in pft_cell['id_number']:\n",
    "    s_vals = pft_cell[pft_cell['id_number'] == feature][sunitinib].values[0]\n",
    "    c_vals = pft_cell[pft_cell['id_number'] == feature][control].values[0]\n",
    "    t, p = ttest_ind(s_vals, c_vals, equal_var=False)\n",
    "    raw_p_vals.append(p)\n",
    "kept, corr_p_vals = fdrcorrection(raw_p_vals)\n",
    "sig_feature = [feature for feature, kept in zip(pft_cell['id_number'], kept) if kept]\n",
    "for_plot = pft_cell[pft_cell['id_number'].isin(sig_feature)][sunitinib + control]\n",
    "sns.clustermap(for_plot, cmap='coolwarm', col_colors=['r' for _ in sunitinib] + ['g' for _ in control], z_score=0)\n",
    "plt.show()\n",
    "\n",
    "for_plot[\"p_value(corr)\"] = [p for p, kept in zip(corr_p_vals, kept) if kept]\n",
    "for_plot[\"p_value(raw)\"] = [p for p, kept in zip(raw_p_vals, kept) if kept]\n",
    "for_plot.to_csv(\"significant_features_bowen2023_cell_preferred_for_analysis.tsv\", sep=\"\\t\", index=0)\n",
    "\n",
    "pft_cell[\"p_value(corr)\"] = corr_p_vals\n",
    "pft_cell[\"p_value(raw)\"] = raw_p_vals\n",
    "pft_cell.to_csv(\"all_features_bowen2023_cell_preferred_for_analysis.tsv\", sep=\"\\t\", index=0)"
   ]
  },
  {
   "cell_type": "code",
   "execution_count": null,
   "metadata": {},
   "outputs": [],
   "source": []
  }
 ],
 "metadata": {
  "kernelspec": {
   "display_name": "pcpfm_venv",
   "language": "python",
   "name": "python3"
  },
  "language_info": {
   "codemirror_mode": {
    "name": "ipython",
    "version": 3
   },
   "file_extension": ".py",
   "mimetype": "text/x-python",
   "name": "python",
   "nbconvert_exporter": "python",
   "pygments_lexer": "ipython3",
   "version": "3.9.6"
  }
 },
 "nbformat": 4,
 "nbformat_minor": 2
}
