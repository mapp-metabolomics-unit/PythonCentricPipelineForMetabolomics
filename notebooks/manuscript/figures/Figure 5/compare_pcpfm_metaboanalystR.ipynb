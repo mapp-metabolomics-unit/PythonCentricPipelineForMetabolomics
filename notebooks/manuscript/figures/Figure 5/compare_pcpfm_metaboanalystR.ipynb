{
 "cells": [
  {
   "cell_type": "code",
   "execution_count": null,
   "metadata": {},
   "outputs": [],
   "source": [
    "import pandas as pd\n",
    "from intervaltree import IntervalTree"
   ]
  },
  {
   "cell_type": "code",
   "execution_count": null,
   "metadata": {},
   "outputs": [],
   "source": [
    "def asari_to_trees(ft, mz_err=5, rtime=5):\n",
    "    mz_tree, rt_tree = IntervalTree(), IntervalTree()\n",
    "    for id, mz, rtime in zip(ft['id_number'], ft['mz'], ft['rtime']):\n",
    "        mz_tree.addi(mz - (mz/1e6 * mz_err), mz + (mz/1e6 * mz_err), id)\n",
    "        rt_tree.addi(rtime-rtime, rtime+rtime, id)\n",
    "    return mz_tree, rt_tree\n",
    "\n",
    "def metaboanalyst_to_trees(r_ft, mz_err=5, rtime=5):\n",
    "    mz_tree, rt_tree = IntervalTree(), IntervalTree()\n",
    "    for feature in r_ft['Sample'][1:]:\n",
    "        mz, rtime = [float(x) for x in feature.split('__')]\n",
    "        mz_tree.addi(mz - (mz/1e6 * mz_err), mz + (mz/1e6 * mz_err), feature)\n",
    "        rt_tree.addi(rtime-rtime, rtime+rtime, feature)\n",
    "    return mz_tree, rt_tree\n",
    "\n",
    "def compare_R_to_asari(r_ft, asari_mz_tree, asari_rt_tree):\n",
    "    total, matched = 0, 0\n",
    "    for feature in r_ft['Sample'][1:]:\n",
    "        mz, rtime = [float(x) for x in feature.split('__')]\n",
    "        rt_matches = [x.data for x in asari_rt_tree.at(rtime)]\n",
    "        mz_matches = [x.data for x in asari_mz_tree.at(mz)]\n",
    "        feature_matched = False\n",
    "        total += 1\n",
    "        for match in rt_matches:\n",
    "            if match in mz_matches:\n",
    "                feature_matched = True\n",
    "        if feature_matched:\n",
    "            matched += 1\n",
    "    return total, matched\n",
    "\n",
    "def compare_asari_to_R(a_ft, r_mz_tree, r_rt_tree):\n",
    "    total, matched = 0, 0\n",
    "    for _, mz, rtime in zip(a_ft['id_number'], a_ft['mz'], a_ft['rtime']):\n",
    "        rt_matches = [x.data for x in r_rt_tree.at(rtime)]\n",
    "        mz_matches = [x.data for x in r_mz_tree.at(mz)]\n",
    "        feature_matched = False\n",
    "        total += 1\n",
    "        for match in rt_matches:\n",
    "            if match in mz_matches:\n",
    "                feature_matched = True\n",
    "        if feature_matched:\n",
    "            matched += 1\n",
    "    return total, matched"
   ]
  },
  {
   "cell_type": "code",
   "execution_count": null,
   "metadata": {},
   "outputs": [],
   "source": [
    "\n",
    "def search_trees(reference_db, mz_tree, rt_tree):\n",
    "    matches = {}\n",
    "    for name, mz, rtime in zip(reference_db[\"Metabolite\"], reference_db[\"m/z\"], reference_db[\"Retention time (min)\"]):\n",
    "        matches[name] = set()\n",
    "        rtime = rtime * 60\n",
    "        mz_matches = [x.data for x in mz_tree.at(mz)]\n",
    "        rt_matches = [x.data for x in rt_tree.at(rtime)]\n",
    "        for mz_match in mz_matches:\n",
    "            if mz_match in rt_matches:\n",
    "                matches[name].add(mz_match)\n",
    "    matched = 0\n",
    "    for name, features in matches.items():\n",
    "        if features:\n",
    "            matched += 1\n",
    "    return len(matches), matched, set([x for x, v in matches.items() if v])\n",
    "\n",
    "\n"
   ]
  },
  {
   "cell_type": "code",
   "execution_count": null,
   "metadata": {},
   "outputs": [],
   "source": [
    "checkmate_annots = pd.read_excel(\"./CheckMate_annots.xlsx\")\n",
    "checkmate_orbi_asari = pd.read_csv(\"/Users/mitchjo/Analyses/checkmate_orbi/asari_asari_project_22311357/preferred_Feature_table.tsv\", sep=\"\\t\")\n",
    "checkmate_orbi_metaboanalyst = pd.read_csv(\"./Checkmate_Orbi_results.csv\")\n",
    "asari_mz_tree, asari_rt_tree = asari_to_trees(checkmate_orbi_asari)\n",
    "r_mz_tree, r_rt_tree = metaboanalyst_to_trees(checkmate_orbi_metaboanalyst)\n",
    "total, matched = compare_R_to_asari(checkmate_orbi_metaboanalyst, asari_mz_tree, asari_rt_tree)\n",
    "print(\"Total Metaboanalyst: \", total, \" Matched to Asari: \", matched)\n",
    "total, matched = compare_asari_to_R(checkmate_orbi_asari, asari_mz_tree, asari_rt_tree)\n",
    "print(\"Total Asari: \", total, \" Matched to Metaboanalyst: \", matched)\n",
    "a_total, asari_found, asari_found_set = search_trees(checkmate_annots, asari_mz_tree, asari_rt_tree)\n",
    "r_total, r_found, r_found_set = search_trees(checkmate_annots, r_mz_tree, r_rt_tree)\n",
    "all_standards = checkmate_annots[\"Metabolite\"]\n",
    "\n",
    "print(\"Total Standards: \", a_total, \" Asari Found: \", asari_found)\n",
    "print(\"Total Standards: \", r_total, \" Metaboanalyst Found: \", r_found)\n",
    "\n"
   ]
  },
  {
   "cell_type": "code",
   "execution_count": null,
   "metadata": {},
   "outputs": [],
   "source": [
    "print(len(r_found_set.intersection(asari_found_set)))"
   ]
  },
  {
   "cell_type": "code",
   "execution_count": null,
   "metadata": {},
   "outputs": [],
   "source": [
    "import matplotlib.pyplot as plt\n",
    "\n",
    "\n",
    "\n",
    "A = asari_found_set\n",
    "B = r_found_set\n",
    "C = set([x for x in all_standards])\n",
    "\n",
    "from matplotlib_venn import venn3\n",
    "venn3([len(A.difference(B.union(C))),\n",
    "      len(B.difference(A.union(C))),\n",
    "      len(A.intersection(B).difference(C)),\n",
    "      len(C.difference(A.union(B))),\n",
    "      len(A.intersection(C).difference(B)),\n",
    "      len(B.intersection(C).difference(A)),\n",
    "      len(A.intersection(B).intersection(C))])\n",
    "plt.show()"
   ]
  },
  {
   "cell_type": "code",
   "execution_count": null,
   "metadata": {},
   "outputs": [],
   "source": [
    "checkmate_annots = pd.read_excel(\"./CheckMate_annots.xlsx\")\n",
    "checkmate_orbi_asari = pd.read_csv(\"/Users/mitchjo/Analyses/checkmate_orbi/asari_asari_project_22311357/export/full_Feature_table.tsv\", sep=\"\\t\")\n",
    "checkmate_orbi_metaboanalyst = pd.read_csv(\"./Checkmate_Orbi_results.csv\")\n",
    "asari_mz_tree_full, asari_rt_tree_full = asari_to_trees(checkmate_orbi_asari)\n",
    "r_mz_tree, r_rt_tree = metaboanalyst_to_trees(checkmate_orbi_metaboanalyst)\n",
    "total, matched = compare_R_to_asari(checkmate_orbi_metaboanalyst, asari_mz_tree_full, asari_rt_tree_full)\n",
    "print(\"Total Metaboanalyst: \", total, \" Matched to Asari: \", matched)\n",
    "total, matched = compare_asari_to_R(checkmate_orbi_asari, asari_mz_tree_full, asari_rt_tree_full)\n",
    "print(\"Total Asari: \", total, \" Matched to Metaboanalyst: \", matched)\n",
    "a_total_full, asari_found_full, asari_found_set_full = search_trees(checkmate_annots, asari_mz_tree, asari_rt_tree)\n",
    "r_total, r_found, r_found_set = search_trees(checkmate_annots, r_mz_tree, r_rt_tree)\n",
    "all_standards = checkmate_annots[\"Metabolite\"]\n",
    "\n",
    "print(\"Total Standards: \", a_total_full, \" Asari Found: \", asari_found_full)\n",
    "print(\"Total Standards: \", r_total, \" Metaboanalyst Found: \", r_found)"
   ]
  },
  {
   "cell_type": "code",
   "execution_count": null,
   "metadata": {},
   "outputs": [],
   "source": [
    "print(len(r_found_set.intersection(asari_found_set_full)))"
   ]
  },
  {
   "cell_type": "code",
   "execution_count": null,
   "metadata": {},
   "outputs": [],
   "source": [
    "import matplotlib.pyplot as plt\n",
    "\n",
    "\n",
    "\n",
    "A = asari_found_set_full\n",
    "B = r_found_set\n",
    "C = set([x for x in all_standards])\n",
    "\n",
    "from matplotlib_venn import venn3\n",
    "venn3([len(A.difference(B.union(C))),\n",
    "      len(B.difference(A.union(C))),\n",
    "      len(A.intersection(B).difference(C)),\n",
    "      len(C.difference(A.union(B))),\n",
    "      len(A.intersection(C).difference(B)),\n",
    "      len(B.intersection(C).difference(A)),\n",
    "      len(A.intersection(B).intersection(C))])\n",
    "plt.show()"
   ]
  }
 ],
 "metadata": {
  "kernelspec": {
   "display_name": "Python 3",
   "language": "python",
   "name": "python3"
  },
  "language_info": {
   "codemirror_mode": {
    "name": "ipython",
    "version": 3
   },
   "file_extension": ".py",
   "mimetype": "text/x-python",
   "name": "python",
   "nbconvert_exporter": "python",
   "pygments_lexer": "ipython3",
   "version": "3.9.6"
  }
 },
 "nbformat": 4,
 "nbformat_minor": 2
}
