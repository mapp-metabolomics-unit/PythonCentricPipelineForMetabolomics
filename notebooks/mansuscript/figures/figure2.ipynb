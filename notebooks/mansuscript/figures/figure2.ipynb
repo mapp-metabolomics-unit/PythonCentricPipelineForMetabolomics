{
 "cells": [
  {
   "cell_type": "code",
   "execution_count": null,
   "metadata": {},
   "outputs": [],
   "source": [
    "# A) was produced using biorender"
   ]
  },
  {
   "cell_type": "code",
   "execution_count": 39,
   "metadata": {},
   "outputs": [
    {
     "name": "stdout",
     "output_type": "stream",
     "text": [
      "dict_keys(['assemble', 'asari', 'blank_masking', 'drop_samples', 'normalize', 'drop_missing_features', 'interpolate', 'log_transform', 'build_empCpds', 'MS1_annotate', 'MS2_annotate', 'L1_annotate', 'L1_annotate_w_MS2', 'finish'])\n",
      "assemble 0.023162933190663655\n",
      "asari 22.483538981278738\n",
      "blank_masking 3.6936484018961586\n",
      "drop_samples 2.1274808327356975\n",
      "normalize 0.9697155157725016\n",
      "drop_missing_features 0.3297377824783325\n",
      "interpolate 0.16606318553288776\n",
      "log_transform 0.15022805134455364\n",
      "build_empCpds 0.32155609925587975\n",
      "MS1_annotate 0.21889651616414388\n",
      "MS2_annotate 162.63612131675083\n",
      "L1_annotate 0.4936782519022624\n",
      "L1_annotate_w_MS2 15.462415397167206\n",
      "dict_keys(['assemble', 'convert', 'asari', 'blank_masking', 'drop_samples', 'normalize', 'drop_missing_features', 'interpolate', 'log_transform', 'build_empCpds', 'MS1_annotate', 'MS2_annotate', 'L1_annotate', 'L1_annotate_w_MS2'])\n",
      "assemble 0.02141525348027547\n",
      "convert 0.04020074605941772\n",
      "asari 30.08604735136032\n",
      "blank_masking 4.382085466384888\n",
      "drop_samples 2.3661582469940186\n",
      "normalize 1.1339388171831766\n",
      "drop_missing_features 0.19453625281651815\n",
      "interpolate 0.2168105959892273\n",
      "log_transform 0.19563202063242596\n",
      "build_empCpds 0.5070856173833211\n",
      "MS1_annotate 0.47221148014068604\n",
      "MS2_annotate 17.52042451699575\n",
      "L1_annotate 0.9130651354789734\n",
      "L1_annotate_w_MS2 0.7083183844884237\n"
     ]
    },
    {
     "data": {
      "image/png": "[encoded data removed]",
      "text/plain": [
       "<Figure size 640x480 with 1 Axes>"
      ]
     },
     "metadata": {},
     "output_type": "display_data"
    }
   ],
   "source": [
    "# Panel B\n",
    "# this assumes you have first ran all of the workflows provided in the examples directory on datasets D1 through D6\n",
    "\n",
    "import json\n",
    "import matplotlib.pyplot as plt\n",
    "lipidomics = json.load(open(\"/Users/mitchjo/Projects/PythonCentricPipelineForMetabolomics/examples/Analyses/Plasma_Lipidomics/experiment.json\"))\n",
    "metabolomics = json.load(open(\"/Users/mitchjo/Projects/PythonCentricPipelineForMetabolomics/examples/Analyses/Plasma_Metabolomics_HILIC_pos/experiment.json\"))\n",
    "\n",
    "for title, data in zip([\"Lipidomics\", \"Metabolomics\"], [lipidomics, metabolomics]):\n",
    "    cmds = data[\"command_history\"]\n",
    "    total_time_elapsed = {}\n",
    "    for i, cmd_1 in enumerate(cmds[:-1]):\n",
    "        cmd_2 = cmds[i+1]\n",
    "        time_1, cmd_1 = cmd_1.split(\":\")\n",
    "        time_2, cmd_2 = cmd_2.split(\":\")\n",
    "        subcommand = cmd_2.split(\";\")[1]\n",
    "        time_used = float(time_2) - float(time_1)\n",
    "        if subcommand not in total_time_elapsed:\n",
    "            total_time_elapsed[subcommand] = 0\n",
    "        total_time_elapsed[subcommand] += time_used / 60\n",
    "    print(total_time_elapsed.keys())\n",
    "    colors = {\n",
    "        'assemble': 'lightblue',\n",
    "        'asari': 'lightblue',\n",
    "        'convert': 'lightblue',\n",
    "        'blank_masking': 'lightcoral',\n",
    "        'drop_samples': 'lightcoral',\n",
    "        'drop_missing_features': 'lightcoral',\n",
    "        'normalize': 'lightcoral',\n",
    "        'batch_correct': 'lightcoral', \n",
    "        'log_transform': 'lightcoral',\n",
    "        'interpolate': 'lightcoral',\n",
    "        'build_empCpds': 'lightgreen',\n",
    "        'L1_annotate': 'lightgreen',\n",
    "        'L2_annotate': 'lightgreen',\n",
    "        'L1_annotate_w_MS2': 'lightgreen',\n",
    "        'MS1_annotate': 'lightgreen',\n",
    "        'MS2_annotate': 'lightgreen',\n",
    "        'finish': 'lightgreen'\n",
    "    }\n",
    "\n",
    "\n",
    "    subtotal = 0\n",
    "    for sub, dt in total_time_elapsed.items():\n",
    "        if sub not in {'finish', 'report'}:\n",
    "            plt.bar(title, dt, bottom=subtotal, color=colors[sub])\n",
    "            subtotal += dt\n",
    "            print(sub, dt)\n",
    "plt.show()\n"
   ]
  },
  {
   "cell_type": "code",
   "execution_count": null,
   "metadata": {},
   "outputs": [],
   "source": [
    "# Panel C\n",
    "# this requires running the XCMS and pcpfm comparison workflows in the examples directory"
   ]
  },
  {
   "cell_type": "code",
   "execution_count": null,
   "metadata": {},
   "outputs": [],
   "source": []
  }
 ],
 "metadata": {
  "kernelspec": {
   "display_name": "Python 3",
   "language": "python",
   "name": "python3"
  },
  "language_info": {
   "codemirror_mode": {
    "name": "ipython",
    "version": 3
   },
   "file_extension": ".py",
   "mimetype": "text/x-python",
   "name": "python",
   "nbconvert_exporter": "python",
   "pygments_lexer": "ipython3",
   "version": "3.9.6"
  }
 },
 "nbformat": 4,
 "nbformat_minor": 2
}
